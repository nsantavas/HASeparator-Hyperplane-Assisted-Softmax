{
 "cells": [
  {
   "cell_type": "code",
   "execution_count": null,
   "id": "1f3fbd7d",
   "metadata": {},
   "outputs": [],
   "source": [
    "import tensorflow as tf\n",
    "from tensorflow.keras import layers\n",
    "from tensorflow.keras.layers import Layer\n",
    "from ResNet50 import ResNet50, scheduler\n",
    "from Dataloader import Dataloader\n",
    "from params import parameters"
   ]
  },
  {
   "cell_type": "code",
   "execution_count": null,
   "id": "b48252ae",
   "metadata": {},
   "outputs": [],
   "source": [
    "scheduler = tf.keras.callbacks.LearningRateScheduler(scheduler)\n",
    "\n",
    "tensorboard_callback = keras.callbacks.TensorBoard(log_dir=parameters['logdir'], write_graph=True)\n",
    "checkpoint = keras.callbacks.ModelCheckpoint((parameters['filepath']), mode='max', monitor='val_accuracy', save_best_only=True, verbose=1, save_weights_only=True)\n",
    "\n",
    "clbk=[tensorboard_callback, checkpoint, scheduler]\n",
    "\n",
    "dataloader = Dataloader()"
   ]
  },
  {
   "cell_type": "code",
   "execution_count": null,
   "id": "6673602f",
   "metadata": {
    "scrolled": true
   },
   "outputs": [],
   "source": [
    "resnet = ResNet50(parameters[\"total_classes\"], parameters[\"margin\"], parameters[\"scaler\"])\n",
    "model = resnet.model()"
   ]
  },
  {
   "cell_type": "code",
   "execution_count": null,
   "id": "9ad09a2a",
   "metadata": {},
   "outputs": [],
   "source": [
    "model.fit(dataloader.get_training_dataset(), validation_data = dataloader.get_validation_dataset(), epochs=parameters[\"epochs\"], verbose=1, callbacks=clbk)"
   ]
  }
 ],
 "metadata": {
  "kernelspec": {
   "display_name": "Python 3",
   "language": "python",
   "name": "python3"
  },
  "language_info": {
   "codemirror_mode": {
    "name": "ipython",
    "version": 3
   },
   "file_extension": ".py",
   "mimetype": "text/x-python",
   "name": "python",
   "nbconvert_exporter": "python",
   "pygments_lexer": "ipython3",
   "version": "3.8.10"
  }
 },
 "nbformat": 4,
 "nbformat_minor": 5
}
